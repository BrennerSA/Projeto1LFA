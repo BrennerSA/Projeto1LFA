{
  "metadata": {
    "language_info": {
      "name": ""
    },
    "kernelspec": {
      "name": "",
      "display_name": ""
    }
  },
  "nbformat_minor": 4,
  "nbformat": 4,
  "cells": [
    {
      "cell_type": "markdown",
      "source": "Este projeto foi redigido com o objetivo de simular o funcionamento de um automato utilizando a linguagem Java. O projeto foi construido utilizando quatro classes as quais serão descritas a seguir.",
      "metadata": {}
    },
    {
      "cell_type": "code",
      "source": "package projeto1lfa;\n\nimport java.util.Scanner;\n\n\npublic class Projeto1LFA {\n\n   \n    public static void main(String[] args) {\n        String lista,alfabeto,aresta;\n        String initial,fin,palavra;\n        int n;\n        Scanner s = new Scanner(System.in);\n        Scanner s2 = new Scanner(System.in);\n        Grafo g = new Grafo();\n        \n        //System.out.println(\"estados\");\n        lista=s.nextLine();\n        for(int i =0;i<lista.length();i++){\n            g.addVertice(lista.charAt(i));\n        }\n        //System.out.println(\"alfabeto\");\n        alfabeto=s.nextLine();\n        \n        //System.out.println(\"transições\");\n        n=s.nextInt();\n        \n        while(n>0){\n           // System.out.println(\"aresta\");\n            aresta=s2.nextLine();\n            g.addAresta(aresta.charAt(1), aresta.charAt(0), aresta.charAt(2));\n            n--;\n            \n        }\n        //System.out.println(\"inicial\");\n        initial=s2.nextLine();\n        g.setInitial(initial.charAt(0));\n        //System.out.println(\"final\");\n        fin=s2.nextLine();\n        for(int i=0;i<fin.length();i++){\n            g.setFinal(fin.charAt(i));\n        }\n        \n        \n        //System.out.println(\"palavra\");\n        palavra=s2.nextLine();\n        String[] subpalavras=palavra.split(\" \");\n        for(int i=0;i<subpalavras.length;i++){\n            g.palavra(subpalavras[i]);\n        }\n        ",
      "metadata": {},
      "execution_count": null,
      "outputs": []
    },
    {
      "cell_type": "code",
      "source": "Para o desenvolvimento foi escolhida um tipo de estrutura de dados que mais se adeque ao problema proposto de simular o funcionamento de um automato. \nPara este problema foi utilizado um grafo. Para a implementação do grafo o projeto ficou divido nas classes main,grafo,vertice e arestas, que \nrespectivamente possuem a função de gerar o grafo e receber as entradas do teclado, tratar dos metodos de funcionamento do grafo gerenciando os\nvertices e arestas.",
      "metadata": {},
      "execution_count": null,
      "outputs": []
    },
    {
      "cell_type": "markdown",
      "source": "package projeto1lfa;\n\nimport java.util.ArrayList;\n\n\npublic class Grafo {\n    private ArrayList<Vertice> vertices;\n    private ArrayList<Aresta> arestas;\n    \n    public Grafo(){\n        this.vertices =new ArrayList<Vertice>();\n        this.arestas= new ArrayList<Aresta>();\n        \n    }\n    \n    public void addVertice(char dado){\n        Vertice novoVertice = new Vertice(dado);\n        this.vertices.add(novoVertice);\n    }\n    \n    public void addAresta(char trans, char dadoinicio, char dadofim){\n        Vertice inicio=this.getVertice(dadoinicio);\n        Vertice fim=this.getVertice(dadofim);\n        Aresta aresta=new Aresta(trans,inicio,fim);\n        inicio.addArestaSaida(aresta);\n        fim.addArestaEntrada(aresta);\n        this.arestas.add(aresta);\n        \n       \n    }\n    \n    public Vertice getVertice(char dado){\n        Vertice vertice=null;\n        for(int i=0;i<this.vertices.size();i++){\n           if(this.vertices.get(i).getDado()==dado){\n               vertice=this.vertices.get(i);\n               break;\n           } \n        }\n        return vertice;\n    }\n    \n    public void setInitial(char dado){\n        Vertice vertice=null;\n        vertice=getVertice(dado);\n        vertice.setInitial();\n        \n    }\n    \n    public void setFinal(char dado){\n        Vertice vertice=null;\n        vertice=getVertice(dado);\n        vertice.setFinal();\n        \n    }\n    \n    public void palavra(String palavra){\n        char c;\n        Vertice atual=null;\n        boolean state = false;\n        for(int j=0;j<vertices.size();j++){\n                if( vertices.get(j).getInitial()==true){\n                    atual=vertices.get(j);\n                }\n        }if(atual==null){\n            System.out.println(\"N\");\n        }else{\n            for(int i=0;i<palavra.length();i++){\n                c=palavra.charAt(i);\n                int z=0;\n                for(int j=0;j<arestas.size();j++){                    \n                    if(arestas.get(j).getTransicao()==c && arestas.get(j).getInicio()==atual){\n                        atual=arestas.get(j).getFim();\n                        state=atual.getFinal();\n                        break;\n                    }else{\n                        z++;\n                    }\n            }if(arestas.size()==z){\n                state=false;\n                break;\n            }\n                \n            }\n            if(state==true){\n                System.out.println(\"S\");\n            }else{\n                System.out.println(\"N\");\n            }\n            \n        }\n        \n        \n        \n        \n    }\n}\n",
      "metadata": {}
    },
    {
      "cell_type": "code",
      "source": "Na classe grafo, o metodo responsavel por analisar se a palavra é valida ou não é o metodo palavra, o qual ira verificar se o vertice inicio foi definido\ne em seguida buscar por uma transição conforme especificada na palavra informada, caso não for encontrada uma aresta valida o automato ira para o estado de erro \ne retornara N, porem se este conseguir concluir seu processo retornara a mensagem S",
      "metadata": {},
      "execution_count": null,
      "outputs": []
    },
    {
      "cell_type": "code",
      "source": "A complexidade do algoritimo redigido varia conforme o tamanho da palavra de entrada e da quantidade de arestas conectando os vertices entre si. A seguir\nseguem os codigos referentes as classes aresta e vertice",
      "metadata": {},
      "execution_count": null,
      "outputs": []
    },
    {
      "cell_type": "code",
      "source": "\npackage projeto1lfa;\n\nimport java.util.ArrayList;\n\n\npublic class Vertice {\n    private char dado;\n    private ArrayList<Aresta> arestasEntrada;\n    private ArrayList<Aresta> arestasSaida;\n    private boolean isFinal;\n    private boolean isInitial;\n    \n    \n    public Vertice(char dado){\n        this.dado=dado;\n        this.arestasEntrada=new ArrayList<Aresta>();\n        this.arestasSaida= new ArrayList<Aresta>();\n        isFinal=false;\n        isInitial=false;\n    }\n    \n    public void addArestaEntrada(Aresta aresta){\n        this.arestasEntrada.add(aresta);\n    }\n    \n    public void addArestaSaida(Aresta aresta){\n        this.arestasSaida.add(aresta);\n    }\n    \n   public char getDado(){\n       return dado;\n   }\n   \n   public void setInitial(){\n       this.isInitial=true;\n   }\n   public void setFinal(){\n       this.isFinal=true;\n   }\n   public boolean getInitial(){\n       return isInitial;\n   }\n   \n   public boolean getFinal(){\n       return isFinal;\n   }\n}\n",
      "metadata": {},
      "execution_count": null,
      "outputs": []
    },
    {
      "cell_type": "code",
      "source": "\npackage projeto1lfa;\n\n\npublic class Aresta {\n    char transicao;\n    private Vertice inicio;\n    private Vertice fim;\n    \n    public Aresta(char transicao,Vertice inicio, Vertice fim){\n        this.transicao=transicao;\n        this.inicio=inicio;\n        this.fim=fim;\n    }\n    \n    public void setTransicao(){\n        \n    }\n    \n    public char getTransicao(){\n        return transicao;\n        \n    }\n    \n    public Vertice getInicio(){\n        return inicio;\n    }\n    \n    public Vertice getFim(){\n        return fim;\n    }\n    \n}\n",
      "metadata": {},
      "execution_count": null,
      "outputs": []
    },
    {
      "cell_type": "code",
      "source": "",
      "metadata": {},
      "execution_count": null,
      "outputs": []
    },
    {
      "cell_type": "code",
      "source": "",
      "metadata": {},
      "execution_count": null,
      "outputs": []
    }
  ]
}